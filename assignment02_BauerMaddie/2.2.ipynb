{
 "cells": [
  {
   "cell_type": "code",
   "execution_count": 3,
   "id": "divine-workstation",
   "metadata": {},
   "outputs": [],
   "source": [
    "from pathlib import Path\n",
    "import json\n",
    "import os\n",
    "\n",
    "from tinydb import TinyDB\n",
    "\n",
    "current_dir = Path(os.getcwd()).absolute()\n",
    "results_dir = current_dir.joinpath('results')\n",
    "kv_data_dir = results_dir.joinpath('kvdb')\n",
    "kv_data_dir.mkdir(parents=True, exist_ok=True)\n"
   ]
  },
  {
   "cell_type": "code",
   "execution_count": 4,
   "id": "underlying-sellers",
   "metadata": {},
   "outputs": [],
   "source": [
    "class DocumentDB(object):\n",
    "    def __init__(self, db_path):\n",
    "        ## You can use the code from the previous exmaple if you would like\n",
    "        people_json = kv_data_dir.joinpath('people.json')\n",
    "        visited_json = kv_data_dir.joinpath('visited.json')\n",
    "        sites_json = kv_data_dir.joinpath('sites.json')\n",
    "        measurements_json = kv_data_dir.joinpath('measurements.json')\n",
    "\n",
    "        self._db_path = Path(db_path)\n",
    "        self._db = None\n",
    "        # Load in the jsons as dicts based on Teams thread feedback\n",
    "        with open('results/kvdb/people.json', 'r') as file:\n",
    "            people_dict = json.load(file)\n",
    "        with open('results/kvdb/visited.json', 'r') as file:\n",
    "            visited_dict = json.load(file)\n",
    "        with open('results/kvdb/sites.json', 'r') as file:\n",
    "            sites_dict = json.load(file)\n",
    "        with open('results/kvdb/measurements.json', 'r') as file:\n",
    "            measurements_dict = json.load(file)\n",
    "        self._load_db()\n",
    "        \n",
    "        # Create records by people dictionary\n",
    "        for people_k, people_v in people_dict.items():\n",
    "            \n",
    "            #Create a list of visits\n",
    "            people_v['visits'] = []\n",
    "            for visited_k, visited_v in visited_dict.items():\n",
    "                for sites_k, sites_v in sites_dict.items():\n",
    "                    # Matching up site_id by sites and visits. Then storing in visited_v as the site\n",
    "                    if sites_v['site_id'] == visited_v['site_id']:\n",
    "                        visited_v['site'] = sites_v\n",
    "                        \n",
    "                        # Create measurements list\n",
    "                        visited_v['measurements'] = []\n",
    "                        for measurements_k, measurements_v in measurements_dict.items():\n",
    "                            # Matching visit_id and person_id with measurements and adding to measurements_v\n",
    "                            if measurements_v['visit_id'] == visited_v['visit_id'] and measurements_v['person_id'] == people_v['person_id']:\n",
    "                                visited_v['measurements'].append(measurements_v)\n",
    "                        # If there are measurements, add it to visit using people_v visits list        \n",
    "                        if len(visited_v['measurements']) != 0:\n",
    "                            people_v['visits'].append(visited_v)\n",
    "                            \n",
    "            # Once person record is complete add it to the db \n",
    "            self._db.insert(people_v)\n",
    "\n",
    "    def _load_db(self):\n",
    "        self._db = TinyDB(self._db_path, indent=4, separators=(',', ': '))"
   ]
  },
  {
   "cell_type": "code",
   "execution_count": 5,
   "id": "expected-template",
   "metadata": {},
   "outputs": [],
   "source": [
    "db_path = results_dir.joinpath('patient-info.json')\n",
    "if db_path.exists():\n",
    "    os.remove(db_path)\n",
    "\n",
    "db = DocumentDB(db_path)"
   ]
  },
  {
   "cell_type": "code",
   "execution_count": null,
   "id": "laughing-abuse",
   "metadata": {},
   "outputs": [],
   "source": []
  }
 ],
 "metadata": {
  "kernelspec": {
   "display_name": "Python 3",
   "language": "python",
   "name": "python3"
  },
  "language_info": {
   "codemirror_mode": {
    "name": "ipython",
    "version": 3
   },
   "file_extension": ".py",
   "mimetype": "text/x-python",
   "name": "python",
   "nbconvert_exporter": "python",
   "pygments_lexer": "ipython3",
   "version": "3.8.8"
  }
 },
 "nbformat": 4,
 "nbformat_minor": 5
}
